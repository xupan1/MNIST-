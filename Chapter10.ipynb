{
 "cells": [
  {
   "cell_type": "code",
   "execution_count": 1,
   "metadata": {},
   "outputs": [
    {
     "name": "stderr",
     "output_type": "stream",
     "text": [
      "D:\\Anaconda4.3.0\\envs\\tensorflow\\lib\\site-packages\\h5py\\__init__.py:34: FutureWarning: Conversion of the second argument of issubdtype from `float` to `np.floating` is deprecated. In future, it will be treated as `np.float64 == np.dtype(float).type`.\n",
      "  from ._conv import register_converters as _register_converters\n",
      "Using TensorFlow backend.\n"
     ]
    }
   ],
   "source": [
    "from keras.datasets import cifar10\n",
    "import numpy as np\n",
    "np.random.seed(10)"
   ]
  },
  {
   "cell_type": "code",
   "execution_count": 4,
   "metadata": {},
   "outputs": [],
   "source": [
    "(x_img_train,y_label_train),(x_img_test,y_label_test)=cifar10.load_data()"
   ]
  },
  {
   "cell_type": "code",
   "execution_count": 5,
   "metadata": {},
   "outputs": [
    {
     "name": "stdout",
     "output_type": "stream",
     "text": [
      "train data:  images: (50000, 32, 32, 3) labels: (50000, 1)\n",
      "test data: images: (10000, 32, 32, 3) labels: (10000, 1)\n"
     ]
    }
   ],
   "source": [
    "print(\"train data:\",' images:' ,x_img_train.shape,\"labels:\",y_label_train.shape)\n",
    "print(\"test data:\",'images:' ,x_img_test.shape,\"labels:\",y_label_test.shape)"
   ]
  },
  {
   "cell_type": "code",
   "execution_count": 6,
   "metadata": {
    "collapsed": true
   },
   "outputs": [],
   "source": [
    "x_img_train_normalize = x_img_train.astype('float32') / 255.0\n",
    "x_img_test_normalize = x_img_test.astype('float32') / 255.0"
   ]
  },
  {
   "cell_type": "code",
   "execution_count": 7,
   "metadata": {
    "collapsed": true
   },
   "outputs": [],
   "source": [
    "from keras.utils import np_utils\n",
    "y_label_train_OneHot = np_utils.to_categorical(y_label_train)\n",
    "y_label_test_OneHot = np_utils.to_categorical(y_label_test)"
   ]
  },
  {
   "cell_type": "code",
   "execution_count": 8,
   "metadata": {
    "collapsed": true
   },
   "outputs": [],
   "source": [
    "from keras.models import Sequential\n",
    "from keras.layers import Dense,Dropout,Activation,Flatten\n",
    "from keras.layers import Dense,Dropout,Flatten,Conv2D,MaxPooling2D"
   ]
  },
  {
   "cell_type": "code",
   "execution_count": 9,
   "metadata": {
    "collapsed": true
   },
   "outputs": [],
   "source": [
    "model=Sequential()"
   ]
  },
  {
   "cell_type": "code",
   "execution_count": 10,
   "metadata": {
    "collapsed": true
   },
   "outputs": [],
   "source": [
    "model.add(Conv2D(filters=32,kernel_size=(3,3),input_shape=(32,32,3),padding='same',activation='relu'))"
   ]
  },
  {
   "cell_type": "code",
   "execution_count": 11,
   "metadata": {
    "collapsed": true
   },
   "outputs": [],
   "source": [
    "model.add(Dropout(0.25))"
   ]
  },
  {
   "cell_type": "code",
   "execution_count": 12,
   "metadata": {
    "collapsed": true
   },
   "outputs": [],
   "source": [
    "model.add(MaxPooling2D(pool_size=(2,2)))"
   ]
  },
  {
   "cell_type": "code",
   "execution_count": 13,
   "metadata": {
    "collapsed": true
   },
   "outputs": [],
   "source": [
    "model.add(Conv2D(filters=64,kernel_size=(3,3),padding='same',activation='relu'))"
   ]
  },
  {
   "cell_type": "code",
   "execution_count": 14,
   "metadata": {
    "collapsed": true
   },
   "outputs": [],
   "source": [
    "model.add(Dropout(0.25))"
   ]
  },
  {
   "cell_type": "code",
   "execution_count": 15,
   "metadata": {
    "collapsed": true
   },
   "outputs": [],
   "source": [
    "model.add(MaxPooling2D(pool_size=(2,2)))"
   ]
  },
  {
   "cell_type": "code",
   "execution_count": 16,
   "metadata": {
    "collapsed": true
   },
   "outputs": [],
   "source": [
    "model.add(Flatten())\n",
    "model.add(Dropout(rate=0.25))"
   ]
  },
  {
   "cell_type": "code",
   "execution_count": 19,
   "metadata": {},
   "outputs": [],
   "source": [
    "model.add(Dense(1024,activation='relu'))\n",
    "model.add(Dropout(rate=0.25))"
   ]
  },
  {
   "cell_type": "code",
   "execution_count": 21,
   "metadata": {},
   "outputs": [],
   "source": [
    "model.add(Dense(10,activation='softmax'))"
   ]
  },
  {
   "cell_type": "code",
   "execution_count": 22,
   "metadata": {},
   "outputs": [
    {
     "name": "stdout",
     "output_type": "stream",
     "text": [
      "_________________________________________________________________\n",
      "Layer (type)                 Output Shape              Param #   \n",
      "=================================================================\n",
      "conv2d_1 (Conv2D)            (None, 32, 32, 32)        896       \n",
      "_________________________________________________________________\n",
      "dropout_1 (Dropout)          (None, 32, 32, 32)        0         \n",
      "_________________________________________________________________\n",
      "max_pooling2d_1 (MaxPooling2 (None, 16, 16, 32)        0         \n",
      "_________________________________________________________________\n",
      "conv2d_2 (Conv2D)            (None, 16, 16, 64)        18496     \n",
      "_________________________________________________________________\n",
      "dropout_2 (Dropout)          (None, 16, 16, 64)        0         \n",
      "_________________________________________________________________\n",
      "max_pooling2d_2 (MaxPooling2 (None, 8, 8, 64)          0         \n",
      "_________________________________________________________________\n",
      "flatten_1 (Flatten)          (None, 4096)              0         \n",
      "_________________________________________________________________\n",
      "dropout_3 (Dropout)          (None, 4096)              0         \n",
      "_________________________________________________________________\n",
      "dense_1 (Dense)              (None, 1024)              4195328   \n",
      "_________________________________________________________________\n",
      "dropout_4 (Dropout)          (None, 1024)              0         \n",
      "_________________________________________________________________\n",
      "dense_2 (Dense)              (None, 10)                10250     \n",
      "=================================================================\n",
      "Total params: 4,224,970\n",
      "Trainable params: 4,224,970\n",
      "Non-trainable params: 0\n",
      "_________________________________________________________________\n",
      "None\n"
     ]
    }
   ],
   "source": [
    "print(model.summary())"
   ]
  },
  {
   "cell_type": "code",
   "execution_count": 23,
   "metadata": {
    "collapsed": true
   },
   "outputs": [],
   "source": [
    "model.compile(loss='categorical_crossentropy',optimizer='adam',metrics=['accuracy'])"
   ]
  },
  {
   "cell_type": "code",
   "execution_count": 24,
   "metadata": {
    "scrolled": true
   },
   "outputs": [
    {
     "name": "stdout",
     "output_type": "stream",
     "text": [
      "Train on 40000 samples, validate on 10000 samples\n",
      "Epoch 1/10\n",
      "40000/40000 [==============================] - 157s 4ms/step - loss: 1.5023 - acc: 0.4589 - val_loss: 1.2754 - val_acc: 0.5805\n",
      "Epoch 2/10\n",
      "40000/40000 [==============================] - 154s 4ms/step - loss: 1.1380 - acc: 0.5980 - val_loss: 1.1102 - val_acc: 0.6393\n",
      "Epoch 3/10\n",
      "40000/40000 [==============================] - 157s 4ms/step - loss: 0.9815 - acc: 0.6573 - val_loss: 1.0193 - val_acc: 0.6614\n",
      "Epoch 4/10\n",
      "40000/40000 [==============================] - 150s 4ms/step - loss: 0.8726 - acc: 0.6934 - val_loss: 0.9463 - val_acc: 0.6925\n",
      "Epoch 5/10\n",
      "40000/40000 [==============================] - 152s 4ms/step - loss: 0.7793 - acc: 0.7266 - val_loss: 0.8892 - val_acc: 0.7035\n",
      "Epoch 6/10\n",
      "40000/40000 [==============================] - 151s 4ms/step - loss: 0.6979 - acc: 0.7548 - val_loss: 0.8422 - val_acc: 0.7219\n",
      "Epoch 7/10\n",
      "40000/40000 [==============================] - 151s 4ms/step - loss: 0.6148 - acc: 0.7841 - val_loss: 0.8140 - val_acc: 0.7251\n",
      "Epoch 8/10\n",
      "40000/40000 [==============================] - 153s 4ms/step - loss: 0.5515 - acc: 0.8061 - val_loss: 0.7643 - val_acc: 0.7453\n",
      "Epoch 9/10\n",
      "40000/40000 [==============================] - 152s 4ms/step - loss: 0.4748 - acc: 0.8338 - val_loss: 0.8252 - val_acc: 0.7135\n",
      "Epoch 10/10\n",
      "40000/40000 [==============================] - 152s 4ms/step - loss: 0.4263 - acc: 0.8511 - val_loss: 0.7561 - val_acc: 0.7412\n"
     ]
    }
   ],
   "source": [
    "train_history=model.fit(x_img_train_normalize,y_label_train_OneHot,validation_split=0.2,epochs=10,batch_size=128,verbose=1)"
   ]
  },
  {
   "cell_type": "code",
   "execution_count": 27,
   "metadata": {
    "collapsed": true
   },
   "outputs": [],
   "source": [
    "import matplotlib.pyplot as plt\n",
    "def show_train_history(train_history,train,validation):\n",
    "    plt.plot(train_history.history[train])\n",
    "    plt.plot(train_history.history[validation])\n",
    "    plt.title('Train History')\n",
    "    plt.ylabel(train)\n",
    "    plt.xlabel('Epoch')\n",
    "    plt.legend(['train','validation'],loc='upper left')\n",
    "    plt.show()"
   ]
  },
  {
   "cell_type": "code",
   "execution_count": 28,
   "metadata": {},
   "outputs": [
    {
     "data": {
      "image/png": "[encoded data removed]",
      "text/plain": [
       "<matplotlib.figure.Figure at 0x1f001a80b00>"
      ]
     },
     "metadata": {},
     "output_type": "display_data"
    }
   ],
   "source": [
    "show_train_history(train_history,'acc','val_acc')"
   ]
  },
  {
   "cell_type": "code",
   "execution_count": 29,
   "metadata": {},
   "outputs": [
    {
     "data": {
      "image/png": "[encoded data removed]",
      "text/plain": [
       "<matplotlib.figure.Figure at 0x1f006f56e80>"
      ]
     },
     "metadata": {},
     "output_type": "display_data"
    }
   ],
   "source": [
    "show_train_history(train_history,'loss','val_loss')"
   ]
  },
  {
   "cell_type": "code",
   "execution_count": 32,
   "metadata": {},
   "outputs": [
    {
     "name": "stdout",
     "output_type": "stream",
     "text": [
      "\n",
      "accuracy= 0.7302\n"
     ]
    }
   ],
   "source": [
    "scores = model.evaluate(x_img_test_normalize,y_label_test_OneHot,verbose=0)\n",
    "print()\n",
    "print('accuracy=',scores[1])"
   ]
  },
  {
   "cell_type": "code",
   "execution_count": 33,
   "metadata": {
    "collapsed": true
   },
   "outputs": [],
   "source": [
    "prediction=model.predict_classes(x_img_test_normalize)"
   ]
  },
  {
   "cell_type": "code",
   "execution_count": 34,
   "metadata": {},
   "outputs": [
    {
     "data": {
      "text/plain": [
       "array([5, 8, 0, 0, 6, 6, 1, 6, 3, 1], dtype=int64)"
      ]
     },
     "execution_count": 34,
     "metadata": {},
     "output_type": "execute_result"
    }
   ],
   "source": [
    "prediction[:10]"
   ]
  },
  {
   "cell_type": "code",
   "execution_count": 38,
   "metadata": {},
   "outputs": [],
   "source": [
    "import matplotlib.pyplot as plt\n",
    "def plot_images_labels_prediction(images,labels,prediction,idx,num=10):\n",
    "    fig = plt.gcf()\n",
    "    fig.set_size_inches(12,14)\n",
    "    if num>25: num=25\n",
    "    for i in range(0,num):\n",
    "        ax=plt.subplot(5,5,1+i)\n",
    "        ax.imshow(images [idx],cmap='binary')\n",
    "        title=str(i)+','+label_dict[labels[i][0]]\n",
    "        if len(prediction)>0:\n",
    "            title+='=>'+label_dict[prediction[i]]\n",
    "        ax.set_title(title,fontsize=10)\n",
    "        ax.set_xticks([]);ax.set_yticks([])\n",
    "        idx+=1\n",
    "    plt.show()"
   ]
  },
  {
   "cell_type": "code",
   "execution_count": 40,
   "metadata": {
    "collapsed": true
   },
   "outputs": [],
   "source": [
    "label_dict={0:\"airplane\",1:\"automobile\",2:\"bird\",3:\"cat\",4:\"deer\",5:\"dog\",6:\"frog\",7:\"horse\",8:\"ship\",9:\"truck\"}"
   ]
  },
  {
   "cell_type": "code",
   "execution_count": 41,
   "metadata": {},
   "outputs": [
    {
     "data": {
      "image/png": "[encoded data removed]",
      "text/plain": [
       "<matplotlib.figure.Figure at 0x1f006fcb470>"
      ]
     },
     "metadata": {},
     "output_type": "display_data"
    }
   ],
   "source": [
    "plot_images_labels_prediction(x_img_test,y_label_test,prediction,0,10)"
   ]
  },
  {
   "cell_type": "code",
   "execution_count": 42,
   "metadata": {
    "collapsed": true
   },
   "outputs": [],
   "source": [
    "Predicted_Probability=model.predict(x_img_test_normalize)"
   ]
  },
  {
   "cell_type": "code",
   "execution_count": 45,
   "metadata": {
    "collapsed": true
   },
   "outputs": [],
   "source": [
    "def show_Predicted_Probability(y,prediction,x_img,Predicted_Probability,i):\n",
    "    print('label:',label_dict[y[i][0]],'predict',label_dict[prediction[i]])\n",
    "    plt.figure(figsize=(2,2))\n",
    "    plt.imshow(np.reshape(x_img_test[i],(32, 32,3)))\n",
    "    plt.show()\n",
    "    for j in range(10):\n",
    "        print(label_dict[j]+' Probability:%1.9f'%(Predicted_Probability[i][j]))\n"
   ]
  },
  {
   "cell_type": "code",
   "execution_count": 46,
   "metadata": {},
   "outputs": [
    {
     "name": "stdout",
     "output_type": "stream",
     "text": [
      "label: cat predict dog\n"
     ]
    },
    {
     "data": {
      "image/png": "[encoded data removed]",
      "text/plain": [
       "<matplotlib.figure.Figure at 0x1f007295e80>"
      ]
     },
     "metadata": {},
     "output_type": "display_data"
    },
    {
     "name": "stdout",
     "output_type": "stream",
     "text": [
      "airplane Probability:0.002562496\n",
      "automobile Probability:0.001298895\n",
      "bird Probability:0.014891285\n",
      "cat Probability:0.314291477\n",
      "deer Probability:0.011439024\n",
      "dog Probability:0.625558138\n",
      "frog Probability:0.019219156\n",
      "horse Probability:0.003974608\n",
      "ship Probability:0.004556441\n",
      "truck Probability:0.002208444\n"
     ]
    }
   ],
   "source": [
    "show_Predicted_Probability(y_label_test,prediction,x_img_test,Predicted_Probability,0)"
   ]
  },
  {
   "cell_type": "code",
   "execution_count": 47,
   "metadata": {},
   "outputs": [
    {
     "name": "stdout",
     "output_type": "stream",
     "text": [
      "label: airplane predict airplane\n"
     ]
    },
    {
     "data": {
      "image/png": "[encoded data removed]",
      "text/plain": [
       "<matplotlib.figure.Figure at 0x1f0072fac50>"
      ]
     },
     "metadata": {},
     "output_type": "display_data"
    },
    {
     "name": "stdout",
     "output_type": "stream",
     "text": [
      "airplane Probability:0.773815989\n",
      "automobile Probability:0.000467651\n",
      "bird Probability:0.087175868\n",
      "cat Probability:0.000538186\n",
      "deer Probability:0.014081186\n",
      "dog Probability:0.000019095\n",
      "frog Probability:0.000043413\n",
      "horse Probability:0.000020244\n",
      "ship Probability:0.123646565\n",
      "truck Probability:0.000191877\n"
     ]
    }
   ],
   "source": [
    "show_Predicted_Probability(y_label_test,prediction,x_img_test,Predicted_Probability,3)"
   ]
  },
  {
   "cell_type": "code",
   "execution_count": 48,
   "metadata": {},
   "outputs": [
    {
     "data": {
      "text/plain": [
       "(10000,)"
      ]
     },
     "execution_count": 48,
     "metadata": {},
     "output_type": "execute_result"
    }
   ],
   "source": [
    "prediction.shape"
   ]
  },
  {
   "cell_type": "code",
   "execution_count": 50,
   "metadata": {},
   "outputs": [
    {
     "data": {
      "text/plain": [
       "(10000, 1)"
      ]
     },
     "execution_count": 50,
     "metadata": {},
     "output_type": "execute_result"
    }
   ],
   "source": [
    "y_label_test.shape"
   ]
  },
  {
   "cell_type": "code",
   "execution_count": 51,
   "metadata": {},
   "outputs": [
    {
     "data": {
      "text/plain": [
       "array([3, 8, 8, ..., 5, 1, 7])"
      ]
     },
     "execution_count": 51,
     "metadata": {},
     "output_type": "execute_result"
    }
   ],
   "source": [
    "y_label_test.reshape(-1)"
   ]
  },
  {
   "cell_type": "code",
   "execution_count": 52,
   "metadata": {
    "scrolled": false
   },
   "outputs": [
    {
     "name": "stdout",
     "output_type": "stream",
     "text": [
      "{0: 'airplane', 1: 'automobile', 2: 'bird', 3: 'cat', 4: 'deer', 5: 'dog', 6: 'frog', 7: 'horse', 8: 'ship', 9: 'truck'}\n"
     ]
    },
    {
     "data": {
      "text/html": [
       "<div>\n",
       "<style>\n",
       "    .dataframe thead tr:only-child th {\n",
       "        text-align: right;\n",
       "    }\n",
       "\n",
       "    .dataframe thead th {\n",
       "        text-align: left;\n",
       "    }\n",
       "\n",
       "    .dataframe tbody tr th {\n",
       "        vertical-align: top;\n",
       "    }\n",
       "</style>\n",
       "<table border=\"1\" class=\"dataframe\">\n",
       "  <thead>\n",
       "    <tr style=\"text-align: right;\">\n",
       "      <th>predict</th>\n",
       "      <th>0</th>\n",
       "      <th>1</th>\n",
       "      <th>2</th>\n",
       "      <th>3</th>\n",
       "      <th>4</th>\n",
       "      <th>5</th>\n",
       "      <th>6</th>\n",
       "      <th>7</th>\n",
       "      <th>8</th>\n",
       "      <th>9</th>\n",
       "    </tr>\n",
       "    <tr>\n",
       "      <th>label</th>\n",
       "      <th></th>\n",
       "      <th></th>\n",
       "      <th></th>\n",
       "      <th></th>\n",
       "      <th></th>\n",
       "      <th></th>\n",
       "      <th></th>\n",
       "      <th></th>\n",
       "      <th></th>\n",
       "      <th></th>\n",
       "    </tr>\n",
       "  </thead>\n",
       "  <tbody>\n",
       "    <tr>\n",
       "      <th>0</th>\n",
       "      <td>791</td>\n",
       "      <td>8</td>\n",
       "      <td>60</td>\n",
       "      <td>9</td>\n",
       "      <td>13</td>\n",
       "      <td>12</td>\n",
       "      <td>19</td>\n",
       "      <td>8</td>\n",
       "      <td>56</td>\n",
       "      <td>24</td>\n",
       "    </tr>\n",
       "    <tr>\n",
       "      <th>1</th>\n",
       "      <td>28</td>\n",
       "      <td>799</td>\n",
       "      <td>19</td>\n",
       "      <td>13</td>\n",
       "      <td>2</td>\n",
       "      <td>6</td>\n",
       "      <td>20</td>\n",
       "      <td>6</td>\n",
       "      <td>32</td>\n",
       "      <td>75</td>\n",
       "    </tr>\n",
       "    <tr>\n",
       "      <th>2</th>\n",
       "      <td>54</td>\n",
       "      <td>1</td>\n",
       "      <td>673</td>\n",
       "      <td>24</td>\n",
       "      <td>86</td>\n",
       "      <td>51</td>\n",
       "      <td>82</td>\n",
       "      <td>19</td>\n",
       "      <td>7</td>\n",
       "      <td>3</td>\n",
       "    </tr>\n",
       "    <tr>\n",
       "      <th>3</th>\n",
       "      <td>17</td>\n",
       "      <td>7</td>\n",
       "      <td>104</td>\n",
       "      <td>427</td>\n",
       "      <td>66</td>\n",
       "      <td>211</td>\n",
       "      <td>127</td>\n",
       "      <td>25</td>\n",
       "      <td>8</td>\n",
       "      <td>8</td>\n",
       "    </tr>\n",
       "    <tr>\n",
       "      <th>4</th>\n",
       "      <td>19</td>\n",
       "      <td>2</td>\n",
       "      <td>94</td>\n",
       "      <td>30</td>\n",
       "      <td>699</td>\n",
       "      <td>32</td>\n",
       "      <td>89</td>\n",
       "      <td>28</td>\n",
       "      <td>6</td>\n",
       "      <td>1</td>\n",
       "    </tr>\n",
       "    <tr>\n",
       "      <th>5</th>\n",
       "      <td>10</td>\n",
       "      <td>3</td>\n",
       "      <td>67</td>\n",
       "      <td>115</td>\n",
       "      <td>48</td>\n",
       "      <td>657</td>\n",
       "      <td>62</td>\n",
       "      <td>30</td>\n",
       "      <td>3</td>\n",
       "      <td>5</td>\n",
       "    </tr>\n",
       "    <tr>\n",
       "      <th>6</th>\n",
       "      <td>4</td>\n",
       "      <td>2</td>\n",
       "      <td>42</td>\n",
       "      <td>25</td>\n",
       "      <td>15</td>\n",
       "      <td>12</td>\n",
       "      <td>895</td>\n",
       "      <td>2</td>\n",
       "      <td>2</td>\n",
       "      <td>1</td>\n",
       "    </tr>\n",
       "    <tr>\n",
       "      <th>7</th>\n",
       "      <td>11</td>\n",
       "      <td>1</td>\n",
       "      <td>50</td>\n",
       "      <td>16</td>\n",
       "      <td>78</td>\n",
       "      <td>68</td>\n",
       "      <td>15</td>\n",
       "      <td>755</td>\n",
       "      <td>5</td>\n",
       "      <td>1</td>\n",
       "    </tr>\n",
       "    <tr>\n",
       "      <th>8</th>\n",
       "      <td>50</td>\n",
       "      <td>26</td>\n",
       "      <td>30</td>\n",
       "      <td>6</td>\n",
       "      <td>14</td>\n",
       "      <td>15</td>\n",
       "      <td>12</td>\n",
       "      <td>1</td>\n",
       "      <td>834</td>\n",
       "      <td>12</td>\n",
       "    </tr>\n",
       "    <tr>\n",
       "      <th>9</th>\n",
       "      <td>47</td>\n",
       "      <td>68</td>\n",
       "      <td>22</td>\n",
       "      <td>22</td>\n",
       "      <td>4</td>\n",
       "      <td>15</td>\n",
       "      <td>13</td>\n",
       "      <td>12</td>\n",
       "      <td>25</td>\n",
       "      <td>772</td>\n",
       "    </tr>\n",
       "  </tbody>\n",
       "</table>\n",
       "</div>"
      ],
      "text/plain": [
       "predict    0    1    2    3    4    5    6    7    8    9\n",
       "label                                                    \n",
       "0        791    8   60    9   13   12   19    8   56   24\n",
       "1         28  799   19   13    2    6   20    6   32   75\n",
       "2         54    1  673   24   86   51   82   19    7    3\n",
       "3         17    7  104  427   66  211  127   25    8    8\n",
       "4         19    2   94   30  699   32   89   28    6    1\n",
       "5         10    3   67  115   48  657   62   30    3    5\n",
       "6          4    2   42   25   15   12  895    2    2    1\n",
       "7         11    1   50   16   78   68   15  755    5    1\n",
       "8         50   26   30    6   14   15   12    1  834   12\n",
       "9         47   68   22   22    4   15   13   12   25  772"
      ]
     },
     "execution_count": 52,
     "metadata": {},
     "output_type": "execute_result"
    }
   ],
   "source": [
    "import pandas as pd\n",
    "print(label_dict)\n",
    "pd.crosstab(y_label_test.reshape(-1),prediction,rownames=['label'],colnames=['predict'])"
   ]
  },
  {
   "cell_type": "code",
   "execution_count": 65,
   "metadata": {
    "collapsed": true
   },
   "outputs": [],
   "source": [
    "model=Sequential()"
   ]
  },
  {
   "cell_type": "code",
   "execution_count": 66,
   "metadata": {
    "collapsed": true
   },
   "outputs": [],
   "source": [
    "model.add(Conv2D(filters=32,kernel_size=(3,3),input_shape=(32,32,3),activation='relu',padding='same'))\n",
    "model.add(Dropout(0.3))\n",
    "model.add(Conv2D(filters=32,kernel_size=(3,3),activation='relu',padding='same'))\n",
    "model.add(MaxPooling2D(pool_size=(2,2)))"
   ]
  },
  {
   "cell_type": "code",
   "execution_count": 67,
   "metadata": {},
   "outputs": [],
   "source": [
    "model.add(Conv2D(filters=64,kernel_size=(3,3),padding='same',activation='relu'))\n",
    "model.add(Dropout(0.3))\n",
    "model.add(Conv2D(filters=64,kernel_size=(3,3),padding='same',activation='relu'))\n",
    "model.add(MaxPooling2D(pool_size=(2,2)))"
   ]
  },
  {
   "cell_type": "code",
   "execution_count": 68,
   "metadata": {},
   "outputs": [],
   "source": [
    "model.add(Conv2D(filters=128,kernel_size=(3,3),padding='same',activation='relu'))\n",
    "model.add(Dropout(0.3))\n",
    "model.add(Conv2D(filters=128,kernel_size=(3,3),padding='same',activation='relu'))\n",
    "model.add(MaxPooling2D(pool_size=(2,2)))"
   ]
  },
  {
   "cell_type": "code",
   "execution_count": 69,
   "metadata": {
    "collapsed": true
   },
   "outputs": [],
   "source": [
    "model.add(Flatten())\n",
    "model.add(Dropout(0.3))\n",
    "model.add(Dense(2500,activation='relu'))\n",
    "model.add(Dropout(0.3))\n",
    "model.add(Dense(1500,activation='relu'))\n",
    "model.add(Dropout(0.3))\n",
    "model.add(Dense(10,activation='softmax'))"
   ]
  },
  {
   "cell_type": "code",
   "execution_count": 70,
   "metadata": {
    "collapsed": true
   },
   "outputs": [],
   "source": [
    "model.compile(loss='categorical_crossentropy',optimizer='adam',metrics=['accuracy'])"
   ]
  },
  {
   "cell_type": "code",
   "execution_count": 71,
   "metadata": {},
   "outputs": [
    {
     "name": "stdout",
     "output_type": "stream",
     "text": [
      "Train on 40000 samples, validate on 10000 samples\n",
      "Epoch 1/50\n",
      "40000/40000 [==============================] - 348s 9ms/step - loss: 1.9544 - acc: 0.2672 - val_loss: 2.2167 - val_acc: 0.2338\n",
      "Epoch 2/50\n",
      "40000/40000 [==============================] - 343s 9ms/step - loss: 1.5082 - acc: 0.4394 - val_loss: 1.6053 - val_acc: 0.4353\n",
      "Epoch 3/50\n",
      "40000/40000 [==============================] - 349s 9ms/step - loss: 1.2811 - acc: 0.5331 - val_loss: 1.2416 - val_acc: 0.5603\n",
      "Epoch 4/50\n",
      "40000/40000 [==============================] - 349s 9ms/step - loss: 1.1228 - acc: 0.5961 - val_loss: 1.1344 - val_acc: 0.6139\n",
      "Epoch 5/50\n",
      "40000/40000 [==============================] - 346s 9ms/step - loss: 1.0202 - acc: 0.6377 - val_loss: 0.9512 - val_acc: 0.6625\n",
      "Epoch 6/50\n",
      "40000/40000 [==============================] - 348s 9ms/step - loss: 0.9196 - acc: 0.6721 - val_loss: 0.9281 - val_acc: 0.6807\n",
      "Epoch 7/50\n",
      "40000/40000 [==============================] - 345s 9ms/step - loss: 0.8459 - acc: 0.6970 - val_loss: 0.8942 - val_acc: 0.6940\n",
      "Epoch 8/50\n",
      "40000/40000 [==============================] - 347s 9ms/step - loss: 0.7880 - acc: 0.7214 - val_loss: 0.7768 - val_acc: 0.7319\n",
      "Epoch 9/50\n",
      "40000/40000 [==============================] - 342s 9ms/step - loss: 0.7261 - acc: 0.7446 - val_loss: 0.7552 - val_acc: 0.7410\n",
      "Epoch 10/50\n",
      "40000/40000 [==============================] - 347s 9ms/step - loss: 0.6732 - acc: 0.7614 - val_loss: 0.7112 - val_acc: 0.7572\n",
      "Epoch 11/50\n",
      "40000/40000 [==============================] - 342s 9ms/step - loss: 0.6356 - acc: 0.7763 - val_loss: 0.6598 - val_acc: 0.7763\n",
      "Epoch 12/50\n",
      "40000/40000 [==============================] - 344s 9ms/step - loss: 0.5999 - acc: 0.7869 - val_loss: 0.6927 - val_acc: 0.7671\n",
      "Epoch 13/50\n",
      "40000/40000 [==============================] - 345s 9ms/step - loss: 0.5571 - acc: 0.8027 - val_loss: 0.6690 - val_acc: 0.7732\n",
      "Epoch 14/50\n",
      "40000/40000 [==============================] - 344s 9ms/step - loss: 0.5251 - acc: 0.8125 - val_loss: 0.6771 - val_acc: 0.7744\n",
      "Epoch 15/50\n",
      "40000/40000 [==============================] - 342s 9ms/step - loss: 0.4959 - acc: 0.8240 - val_loss: 0.6243 - val_acc: 0.7906\n",
      "Epoch 16/50\n",
      "40000/40000 [==============================] - 338s 8ms/step - loss: 0.4646 - acc: 0.8356 - val_loss: 0.6233 - val_acc: 0.7942\n",
      "Epoch 17/50\n",
      "40000/40000 [==============================] - 340s 8ms/step - loss: 0.4352 - acc: 0.8458 - val_loss: 0.6603 - val_acc: 0.7796\n",
      "Epoch 18/50\n",
      "40000/40000 [==============================] - 340s 9ms/step - loss: 0.4224 - acc: 0.8504 - val_loss: 0.6304 - val_acc: 0.7930\n",
      "Epoch 19/50\n",
      "40000/40000 [==============================] - 342s 9ms/step - loss: 0.3942 - acc: 0.8605 - val_loss: 0.6382 - val_acc: 0.7919\n",
      "Epoch 20/50\n",
      "40000/40000 [==============================] - 343s 9ms/step - loss: 0.3678 - acc: 0.8699 - val_loss: 0.6417 - val_acc: 0.7946\n",
      "Epoch 21/50\n",
      "40000/40000 [==============================] - 346s 9ms/step - loss: 0.3423 - acc: 0.8757 - val_loss: 0.6355 - val_acc: 0.7963\n",
      "Epoch 22/50\n",
      "40000/40000 [==============================] - 341s 9ms/step - loss: 0.3321 - acc: 0.8820 - val_loss: 0.6443 - val_acc: 0.7921\n",
      "Epoch 23/50\n",
      "40000/40000 [==============================] - 344s 9ms/step - loss: 0.3160 - acc: 0.8885 - val_loss: 0.6647 - val_acc: 0.7887\n",
      "Epoch 24/50\n",
      "40000/40000 [==============================] - 342s 9ms/step - loss: 0.2997 - acc: 0.8941 - val_loss: 0.6523 - val_acc: 0.8016\n",
      "Epoch 25/50\n",
      "40000/40000 [==============================] - 344s 9ms/step - loss: 0.2883 - acc: 0.8974 - val_loss: 0.6586 - val_acc: 0.7938\n",
      "Epoch 26/50\n",
      "40000/40000 [==============================] - 344s 9ms/step - loss: 0.2773 - acc: 0.9001 - val_loss: 0.6368 - val_acc: 0.7978\n",
      "Epoch 27/50\n",
      "40000/40000 [==============================] - 338s 8ms/step - loss: 0.2611 - acc: 0.9075 - val_loss: 0.6655 - val_acc: 0.7959\n",
      "Epoch 28/50\n",
      "40000/40000 [==============================] - 338s 8ms/step - loss: 0.2575 - acc: 0.9093 - val_loss: 0.6457 - val_acc: 0.8016\n",
      "Epoch 29/50\n",
      "40000/40000 [==============================] - 343s 9ms/step - loss: 0.2385 - acc: 0.9142 - val_loss: 0.6789 - val_acc: 0.8002\n",
      "Epoch 30/50\n",
      "40000/40000 [==============================] - 341s 9ms/step - loss: 0.2316 - acc: 0.9178 - val_loss: 0.7098 - val_acc: 0.7966\n",
      "Epoch 31/50\n",
      "40000/40000 [==============================] - 341s 9ms/step - loss: 0.2193 - acc: 0.9226 - val_loss: 0.7086 - val_acc: 0.7966\n",
      "Epoch 32/50\n",
      "40000/40000 [==============================] - 340s 8ms/step - loss: 0.2126 - acc: 0.9247 - val_loss: 0.7207 - val_acc: 0.7994\n",
      "Epoch 33/50\n",
      "40000/40000 [==============================] - 340s 9ms/step - loss: 0.2113 - acc: 0.9250 - val_loss: 0.7197 - val_acc: 0.7908\n",
      "Epoch 34/50\n",
      "40000/40000 [==============================] - 343s 9ms/step - loss: 0.1963 - acc: 0.9322 - val_loss: 0.7147 - val_acc: 0.7983\n",
      "Epoch 35/50\n",
      "40000/40000 [==============================] - 355s 9ms/step - loss: 0.2009 - acc: 0.9301 - val_loss: 0.7169 - val_acc: 0.7956\n",
      "Epoch 36/50\n",
      "40000/40000 [==============================] - 358s 9ms/step - loss: 0.1962 - acc: 0.9320 - val_loss: 0.6798 - val_acc: 0.8050\n",
      "Epoch 37/50\n",
      "40000/40000 [==============================] - 365s 9ms/step - loss: 0.1900 - acc: 0.9329 - val_loss: 0.7211 - val_acc: 0.8016\n",
      "Epoch 38/50\n",
      "40000/40000 [==============================] - 363s 9ms/step - loss: 0.1827 - acc: 0.9356 - val_loss: 0.7223 - val_acc: 0.8021\n",
      "Epoch 39/50\n",
      "40000/40000 [==============================] - 358s 9ms/step - loss: 0.1735 - acc: 0.9392 - val_loss: 0.7304 - val_acc: 0.7984\n",
      "Epoch 40/50\n",
      "40000/40000 [==============================] - 361s 9ms/step - loss: 0.1715 - acc: 0.9404 - val_loss: 0.7476 - val_acc: 0.7966\n",
      "Epoch 41/50\n",
      "40000/40000 [==============================] - 362s 9ms/step - loss: 0.1678 - acc: 0.9409 - val_loss: 0.7063 - val_acc: 0.8044\n",
      "Epoch 42/50\n",
      "40000/40000 [==============================] - 363s 9ms/step - loss: 0.1633 - acc: 0.9438 - val_loss: 0.7336 - val_acc: 0.8063\n",
      "Epoch 43/50\n",
      "40000/40000 [==============================] - 360s 9ms/step - loss: 0.1678 - acc: 0.9421 - val_loss: 0.7242 - val_acc: 0.8025\n",
      "Epoch 44/50\n",
      "40000/40000 [==============================] - 378s 9ms/step - loss: 0.1607 - acc: 0.9449 - val_loss: 0.7168 - val_acc: 0.8109\n",
      "Epoch 45/50\n",
      "40000/40000 [==============================] - 349s 9ms/step - loss: 0.1613 - acc: 0.9451 - val_loss: 0.7395 - val_acc: 0.8025\n",
      "Epoch 46/50\n",
      "40000/40000 [==============================] - 390s 10ms/step - loss: 0.1567 - acc: 0.9454 - val_loss: 0.6979 - val_acc: 0.8026\n",
      "Epoch 47/50\n",
      "40000/40000 [==============================] - 387s 10ms/step - loss: 0.1587 - acc: 0.9455 - val_loss: 0.7398 - val_acc: 0.8009\n",
      "Epoch 48/50\n",
      "40000/40000 [==============================] - 379s 9ms/step - loss: 0.1443 - acc: 0.9503 - val_loss: 0.7361 - val_acc: 0.8057\n",
      "Epoch 49/50\n",
      "40000/40000 [==============================] - 376s 9ms/step - loss: 0.1528 - acc: 0.9478 - val_loss: 0.7379 - val_acc: 0.8031\n",
      "Epoch 50/50\n",
      "40000/40000 [==============================] - 366s 9ms/step - loss: 0.1547 - acc: 0.9459 - val_loss: 0.7469 - val_acc: 0.8005\n"
     ]
    }
   ],
   "source": [
    "train_history=model.fit(x_img_train_normalize,y_label_train_OneHot,validation_split=0.2,epochs=50,batch_size=300,verbose=1)"
   ]
  },
  {
   "cell_type": "code",
   "execution_count": 74,
   "metadata": {},
   "outputs": [
    {
     "name": "stdout",
     "output_type": "stream",
     "text": [
      "\n",
      "accuracy= 0.7921\n"
     ]
    }
   ],
   "source": [
    "scores = model.evaluate(x_img_test_normalize,y_label_test_OneHot,verbose=0)\n",
    "print()\n",
    "print('accuracy=',scores[1])"
   ]
  },
  {
   "cell_type": "code",
   "execution_count": 79,
   "metadata": {},
   "outputs": [
    {
     "name": "stdout",
     "output_type": "stream",
     "text": [
      "加载模型失败！开始训练一个新模型\n"
     ]
    }
   ],
   "source": [
    "try:\n",
    "    model.load_weights(\"SaveModel/cifarCnnModel.h5\")\n",
    "    print(\"加载 模型成功！继续训练模型\")\n",
    "except:\n",
    "    print(\"加载模型失败！开始训练一个新模型\")"
   ]
  },
  {
   "cell_type": "code",
   "execution_count": 80,
   "metadata": {
    "scrolled": true
   },
   "outputs": [
    {
     "name": "stdout",
     "output_type": "stream",
     "text": [
      "Train on 40000 samples, validate on 10000 samples\n",
      "Epoch 1/2\n",
      "40000/40000 [==============================] - 446s 11ms/step - loss: 0.2324 - acc: 0.9204 - val_loss: 0.7346 - val_acc: 0.7895\n",
      "Epoch 2/2\n",
      "40000/40000 [==============================] - 437s 11ms/step - loss: 0.2245 - acc: 0.9231 - val_loss: 0.7314 - val_acc: 0.7903\n"
     ]
    }
   ],
   "source": [
    "train_history=model.fit(x_img_train_normalize,y_label_train_OneHot,validation_split=0.2,epochs=2,batch_size=128,verbose=1)"
   ]
  },
  {
   "cell_type": "code",
   "execution_count": 82,
   "metadata": {},
   "outputs": [
    {
     "name": "stdout",
     "output_type": "stream",
     "text": [
      "Saved model to disk\n"
     ]
    }
   ],
   "source": [
    "import os\n",
    "os.mkdir(\"SaveModel\")\n",
    "model.save_weights(\"SaveModel/cifarCnnModel.h5\")\n",
    "print(\"Saved model to disk\")"
   ]
  },
  {
   "cell_type": "code",
   "execution_count": null,
   "metadata": {
    "collapsed": true
   },
   "outputs": [],
   "source": []
  }
 ],
 "metadata": {
  "kernelspec": {
   "display_name": "Python 3",
   "language": "python",
   "name": "python3"
  },
  "language_info": {
   "codemirror_mode": {
    "name": "ipython",
    "version": 3
   },
   "file_extension": ".py",
   "mimetype": "text/x-python",
   "name": "python",
   "nbconvert_exporter": "python",
   "pygments_lexer": "ipython3",
   "version": "3.5.3"
  }
 },
 "nbformat": 4,
 "nbformat_minor": 2
}
